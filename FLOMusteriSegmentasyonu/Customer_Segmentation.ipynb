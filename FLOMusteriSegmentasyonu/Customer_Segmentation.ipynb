{
 "cells": [
  {
   "cell_type": "code",
   "execution_count": null,
   "metadata": {},
   "outputs": [],
   "source": [
    "import pandas as pd\n",
    "import numpy as np\n",
    "import seaborn as sns"
   ]
  },
  {
   "cell_type": "markdown",
   "metadata": {},
   "source": [
    "Data Reading"
   ]
  },
  {
   "cell_type": "code",
   "execution_count": null,
   "metadata": {},
   "outputs": [],
   "source": [
    "df=pd.read_csv(r\"C:\\Users\\nevta\\Desktop\\flo\\FLOMusteriSegmentasyonu\\flo_data_20k.csv\")"
   ]
  },
  {
   "cell_type": "code",
   "execution_count": null,
   "metadata": {},
   "outputs": [],
   "source": [
    "df_=df.copy()"
   ]
  },
  {
   "cell_type": "code",
   "execution_count": null,
   "metadata": {},
   "outputs": [],
   "source": [
    "df.head(10)"
   ]
  },
  {
   "cell_type": "code",
   "execution_count": null,
   "metadata": {},
   "outputs": [],
   "source": [
    "df.columns"
   ]
  },
  {
   "cell_type": "code",
   "execution_count": null,
   "metadata": {},
   "outputs": [],
   "source": [
    "df.describe()"
   ]
  },
  {
   "cell_type": "code",
   "execution_count": null,
   "metadata": {},
   "outputs": [],
   "source": [
    "df.sort_values(by='master_id')"
   ]
  },
  {
   "cell_type": "markdown",
   "metadata": {},
   "source": [
    "Data Preprocessing"
   ]
  },
  {
   "cell_type": "code",
   "execution_count": null,
   "metadata": {},
   "outputs": [],
   "source": [
    "df.isnull().sum()"
   ]
  },
  {
   "cell_type": "code",
   "execution_count": null,
   "metadata": {},
   "outputs": [],
   "source": [
    "df.info()"
   ]
  },
  {
   "cell_type": "code",
   "execution_count": null,
   "metadata": {},
   "outputs": [],
   "source": [
    "df[\"order_num_total\"]=df[\"order_num_total_ever_offline\"]+df[\"order_num_total_ever_online\"]\n",
    "df.columns"
   ]
  },
  {
   "cell_type": "code",
   "execution_count": null,
   "metadata": {},
   "outputs": [],
   "source": [
    "df[\"customer_value_total\"]=df[\"customer_value_total_ever_offline\"]+df[\"customer_value_total_ever_online\"]\n",
    "df.head()"
   ]
  },
  {
   "cell_type": "code",
   "execution_count": null,
   "metadata": {},
   "outputs": [],
   "source": [
    "columns=['first_order_date',\n",
    "       'last_order_date', 'last_order_date_online', 'last_order_date_offline']\n",
    "for i in columns:\n",
    "    df[i]=pd.to_datetime(df[i])\n",
    "\n",
    "\n",
    "df.info()"
   ]
  },
  {
   "cell_type": "code",
   "execution_count": null,
   "metadata": {},
   "outputs": [],
   "source": [
    "df[[\"customer_value_total\",\"order_num_total\"]].describe()"
   ]
  },
  {
   "cell_type": "code",
   "execution_count": null,
   "metadata": {},
   "outputs": [],
   "source": [
    "df.sort_values(by=\"customer_value_total\",ascending=False).head(10)"
   ]
  },
  {
   "cell_type": "code",
   "execution_count": null,
   "metadata": {},
   "outputs": [],
   "source": [
    "df.sort_values(by=\"order_num_total\",ascending=False).head(10)"
   ]
  },
  {
   "cell_type": "markdown",
   "metadata": {},
   "source": [
    "Preprocess Function"
   ]
  },
  {
   "cell_type": "code",
   "execution_count": null,
   "metadata": {},
   "outputs": [],
   "source": [
    "def pre_process(df):\n",
    "    ##creating total value\n",
    "    df[\"order_num_total\"]=df[\"order_num_total_ever_offline\"]+df[\"order_num_total_ever_online\"]\n",
    "    df[\"customer_value_total\"]=df[\"customer_value_total_ever_offline\"]+df[\"customer_value_total_ever_online\"]\n",
    "    \n",
    "    ##converting date columns and sorting for output\n",
    "    columns=['first_order_date',\n",
    "       'last_order_date', 'last_order_date_online', 'last_order_date_offline']\n",
    "    for i in columns:\n",
    "        df[i]=pd.to_datetime(df[i])\n",
    "    print(df.sort_values(by=\"customer_value_total\",ascending=False).head(10))\n",
    "    print(df.sort_values(by=\"order_num_total\",ascending=False).head(10))\n",
    "    "
   ]
  },
  {
   "cell_type": "code",
   "execution_count": null,
   "metadata": {},
   "outputs": [],
   "source": [
    "pre_process(df_)"
   ]
  },
  {
   "cell_type": "markdown",
   "metadata": {},
   "source": [
    "#### RFM\n",
    "##### Recency is an indicator that shows what is the recent order of customers order.\n",
    "##### Frequency is an indicator that shows how often customers make order.\n",
    "##### Monetary is an indicator that shows monetary value from his/her order "
   ]
  },
  {
   "cell_type": "code",
   "execution_count": null,
   "metadata": {},
   "outputs": [],
   "source": [
    "import datetime as dt\n",
    "max(df[\"last_order_date\"])\n"
   ]
  },
  {
   "cell_type": "code",
   "execution_count": null,
   "metadata": {},
   "outputs": [],
   "source": [
    "now=dt.datetime(year=2021,month=6,day=1)\n",
    "## now is a date that I have taken datasets for the project.\n",
    "rfm[\"master_id\"]=df[\"master_id\"]\n",
    "rfm=pd.DataFrame()\n",
    "rfm[\"Recency\"]=now-df[\"last_order_date\"]\n",
    "rfm[\"Recency\"]=rfm[\"Recency\"].dt.days\n",
    "rfm[\"Recency\"]=rfm[\"Recency\"].astype(\"int\")\n",
    "rfm[\"Recency\"]\n",
    "        "
   ]
  },
  {
   "cell_type": "code",
   "execution_count": null,
   "metadata": {},
   "outputs": [],
   "source": [
    "rfm[\"Frequency\"]=rfm[\"order_num_total\"]\n",
    "##frequency is an total order for a customer, so we have values\n",
    "rfm[\"Monetary\"]=rfm[\"customer_value_total\"]\n",
    "##Monetary also refers total customer value for total\n",
    "rfm.head()"
   ]
  },
  {
   "cell_type": "code",
   "execution_count": null,
   "metadata": {},
   "outputs": [],
   "source": [
    "df[\"Recency\"]=df[\"Recency\"].astype(\"int\")\n",
    "df[[\"Recency\",\"Frequency\",\"Monetary\"]].describe()"
   ]
  },
  {
   "cell_type": "code",
   "execution_count": null,
   "metadata": {},
   "outputs": [],
   "source": []
  }
 ],
 "metadata": {
  "kernelspec": {
   "display_name": "base",
   "language": "python",
   "name": "python3"
  },
  "language_info": {
   "codemirror_mode": {
    "name": "ipython",
    "version": 3
   },
   "file_extension": ".py",
   "mimetype": "text/x-python",
   "name": "python",
   "nbconvert_exporter": "python",
   "pygments_lexer": "ipython3",
   "version": "3.11.5"
  }
 },
 "nbformat": 4,
 "nbformat_minor": 2
}
